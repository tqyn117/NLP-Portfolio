{
  "cells": [
    {
      "cell_type": "code",
      "execution_count": 1,
      "metadata": {
        "colab": {
          "base_uri": "https://localhost:8080/",
          "height": 74
        },
        "id": "uxOO6G3n9wZn",
        "outputId": "2518a15e-7ffb-4200-83da-c316f0208292"
      },
      "outputs": [
        {
          "output_type": "display_data",
          "data": {
            "text/plain": [
              "<IPython.core.display.HTML object>"
            ],
            "text/html": [
              "\n",
              "     <input type=\"file\" id=\"files-153531a6-4ff0-4511-8697-62f30616c256\" name=\"files[]\" multiple disabled\n",
              "        style=\"border:none\" />\n",
              "     <output id=\"result-153531a6-4ff0-4511-8697-62f30616c256\">\n",
              "      Upload widget is only available when the cell has been executed in the\n",
              "      current browser session. Please rerun this cell to enable.\n",
              "      </output>\n",
              "      <script>// Copyright 2017 Google LLC\n",
              "//\n",
              "// Licensed under the Apache License, Version 2.0 (the \"License\");\n",
              "// you may not use this file except in compliance with the License.\n",
              "// You may obtain a copy of the License at\n",
              "//\n",
              "//      http://www.apache.org/licenses/LICENSE-2.0\n",
              "//\n",
              "// Unless required by applicable law or agreed to in writing, software\n",
              "// distributed under the License is distributed on an \"AS IS\" BASIS,\n",
              "// WITHOUT WARRANTIES OR CONDITIONS OF ANY KIND, either express or implied.\n",
              "// See the License for the specific language governing permissions and\n",
              "// limitations under the License.\n",
              "\n",
              "/**\n",
              " * @fileoverview Helpers for google.colab Python module.\n",
              " */\n",
              "(function(scope) {\n",
              "function span(text, styleAttributes = {}) {\n",
              "  const element = document.createElement('span');\n",
              "  element.textContent = text;\n",
              "  for (const key of Object.keys(styleAttributes)) {\n",
              "    element.style[key] = styleAttributes[key];\n",
              "  }\n",
              "  return element;\n",
              "}\n",
              "\n",
              "// Max number of bytes which will be uploaded at a time.\n",
              "const MAX_PAYLOAD_SIZE = 100 * 1024;\n",
              "\n",
              "function _uploadFiles(inputId, outputId) {\n",
              "  const steps = uploadFilesStep(inputId, outputId);\n",
              "  const outputElement = document.getElementById(outputId);\n",
              "  // Cache steps on the outputElement to make it available for the next call\n",
              "  // to uploadFilesContinue from Python.\n",
              "  outputElement.steps = steps;\n",
              "\n",
              "  return _uploadFilesContinue(outputId);\n",
              "}\n",
              "\n",
              "// This is roughly an async generator (not supported in the browser yet),\n",
              "// where there are multiple asynchronous steps and the Python side is going\n",
              "// to poll for completion of each step.\n",
              "// This uses a Promise to block the python side on completion of each step,\n",
              "// then passes the result of the previous step as the input to the next step.\n",
              "function _uploadFilesContinue(outputId) {\n",
              "  const outputElement = document.getElementById(outputId);\n",
              "  const steps = outputElement.steps;\n",
              "\n",
              "  const next = steps.next(outputElement.lastPromiseValue);\n",
              "  return Promise.resolve(next.value.promise).then((value) => {\n",
              "    // Cache the last promise value to make it available to the next\n",
              "    // step of the generator.\n",
              "    outputElement.lastPromiseValue = value;\n",
              "    return next.value.response;\n",
              "  });\n",
              "}\n",
              "\n",
              "/**\n",
              " * Generator function which is called between each async step of the upload\n",
              " * process.\n",
              " * @param {string} inputId Element ID of the input file picker element.\n",
              " * @param {string} outputId Element ID of the output display.\n",
              " * @return {!Iterable<!Object>} Iterable of next steps.\n",
              " */\n",
              "function* uploadFilesStep(inputId, outputId) {\n",
              "  const inputElement = document.getElementById(inputId);\n",
              "  inputElement.disabled = false;\n",
              "\n",
              "  const outputElement = document.getElementById(outputId);\n",
              "  outputElement.innerHTML = '';\n",
              "\n",
              "  const pickedPromise = new Promise((resolve) => {\n",
              "    inputElement.addEventListener('change', (e) => {\n",
              "      resolve(e.target.files);\n",
              "    });\n",
              "  });\n",
              "\n",
              "  const cancel = document.createElement('button');\n",
              "  inputElement.parentElement.appendChild(cancel);\n",
              "  cancel.textContent = 'Cancel upload';\n",
              "  const cancelPromise = new Promise((resolve) => {\n",
              "    cancel.onclick = () => {\n",
              "      resolve(null);\n",
              "    };\n",
              "  });\n",
              "\n",
              "  // Wait for the user to pick the files.\n",
              "  const files = yield {\n",
              "    promise: Promise.race([pickedPromise, cancelPromise]),\n",
              "    response: {\n",
              "      action: 'starting',\n",
              "    }\n",
              "  };\n",
              "\n",
              "  cancel.remove();\n",
              "\n",
              "  // Disable the input element since further picks are not allowed.\n",
              "  inputElement.disabled = true;\n",
              "\n",
              "  if (!files) {\n",
              "    return {\n",
              "      response: {\n",
              "        action: 'complete',\n",
              "      }\n",
              "    };\n",
              "  }\n",
              "\n",
              "  for (const file of files) {\n",
              "    const li = document.createElement('li');\n",
              "    li.append(span(file.name, {fontWeight: 'bold'}));\n",
              "    li.append(span(\n",
              "        `(${file.type || 'n/a'}) - ${file.size} bytes, ` +\n",
              "        `last modified: ${\n",
              "            file.lastModifiedDate ? file.lastModifiedDate.toLocaleDateString() :\n",
              "                                    'n/a'} - `));\n",
              "    const percent = span('0% done');\n",
              "    li.appendChild(percent);\n",
              "\n",
              "    outputElement.appendChild(li);\n",
              "\n",
              "    const fileDataPromise = new Promise((resolve) => {\n",
              "      const reader = new FileReader();\n",
              "      reader.onload = (e) => {\n",
              "        resolve(e.target.result);\n",
              "      };\n",
              "      reader.readAsArrayBuffer(file);\n",
              "    });\n",
              "    // Wait for the data to be ready.\n",
              "    let fileData = yield {\n",
              "      promise: fileDataPromise,\n",
              "      response: {\n",
              "        action: 'continue',\n",
              "      }\n",
              "    };\n",
              "\n",
              "    // Use a chunked sending to avoid message size limits. See b/62115660.\n",
              "    let position = 0;\n",
              "    do {\n",
              "      const length = Math.min(fileData.byteLength - position, MAX_PAYLOAD_SIZE);\n",
              "      const chunk = new Uint8Array(fileData, position, length);\n",
              "      position += length;\n",
              "\n",
              "      const base64 = btoa(String.fromCharCode.apply(null, chunk));\n",
              "      yield {\n",
              "        response: {\n",
              "          action: 'append',\n",
              "          file: file.name,\n",
              "          data: base64,\n",
              "        },\n",
              "      };\n",
              "\n",
              "      let percentDone = fileData.byteLength === 0 ?\n",
              "          100 :\n",
              "          Math.round((position / fileData.byteLength) * 100);\n",
              "      percent.textContent = `${percentDone}% done`;\n",
              "\n",
              "    } while (position < fileData.byteLength);\n",
              "  }\n",
              "\n",
              "  // All done.\n",
              "  yield {\n",
              "    response: {\n",
              "      action: 'complete',\n",
              "    }\n",
              "  };\n",
              "}\n",
              "\n",
              "scope.google = scope.google || {};\n",
              "scope.google.colab = scope.google.colab || {};\n",
              "scope.google.colab._files = {\n",
              "  _uploadFiles,\n",
              "  _uploadFilesContinue,\n",
              "};\n",
              "})(self);\n",
              "</script> "
            ]
          },
          "metadata": {}
        },
        {
          "output_type": "stream",
          "name": "stdout",
          "text": [
            "Saving ecommerceDataset.csv to ecommerceDataset.csv\n"
          ]
        }
      ],
      "source": [
        "from google.colab import files\n",
        "#Uploading data\n",
        "uploaded = files.upload()"
      ]
    },
    {
      "cell_type": "code",
      "execution_count": 2,
      "metadata": {
        "colab": {
          "base_uri": "https://localhost:8080/",
          "height": 794
        },
        "id": "xqyxk2Xw89XV",
        "outputId": "48a51971-1ef2-4ea4-c49d-1cab130216bc"
      },
      "outputs": [
        {
          "output_type": "display_data",
          "data": {
            "text/plain": [
              "           Product                                               Text\n",
              "0        Household  Paper Plane Design Framed Wall Hanging Motivat...\n",
              "1        Household  SAF 'Floral' Framed Painting (Wood, 30 inch x ...\n",
              "2        Household  SAF 'UV Textured Modern Art Print Framed' Pain...\n",
              "3        Household  SAF Flower Print Framed Painting (Synthetic, 1...\n",
              "4        Household  Incredible Gifts India Wooden Happy Birthday U...\n",
              "...            ...                                                ...\n",
              "20494  Electronics  JBL GO Portable Wireless Bluetooth Speaker wit...\n",
              "20495  Electronics  boAt Stone 200 Portable Bluetooth Speakers (Or...\n",
              "20496  Electronics  JBL T160 in-Ear Headphones with Mic (Black) Co...\n",
              "20497  Electronics  Philips SHE1405BK/94 In-Ear Headphone Headset ...\n",
              "20498  Electronics  boAt Stone 200 Portable Bluetooth Speakers (Bl...\n",
              "\n",
              "[20499 rows x 2 columns]"
            ],
            "text/html": [
              "\n",
              "  <div id=\"df-54c46e21-b814-4070-9b66-6e8fc7dda53a\">\n",
              "    <div class=\"colab-df-container\">\n",
              "      <div>\n",
              "<style scoped>\n",
              "    .dataframe tbody tr th:only-of-type {\n",
              "        vertical-align: middle;\n",
              "    }\n",
              "\n",
              "    .dataframe tbody tr th {\n",
              "        vertical-align: top;\n",
              "    }\n",
              "\n",
              "    .dataframe thead th {\n",
              "        text-align: right;\n",
              "    }\n",
              "</style>\n",
              "<table border=\"1\" class=\"dataframe\">\n",
              "  <thead>\n",
              "    <tr style=\"text-align: right;\">\n",
              "      <th></th>\n",
              "      <th>Product</th>\n",
              "      <th>Text</th>\n",
              "    </tr>\n",
              "  </thead>\n",
              "  <tbody>\n",
              "    <tr>\n",
              "      <th>0</th>\n",
              "      <td>Household</td>\n",
              "      <td>Paper Plane Design Framed Wall Hanging Motivat...</td>\n",
              "    </tr>\n",
              "    <tr>\n",
              "      <th>1</th>\n",
              "      <td>Household</td>\n",
              "      <td>SAF 'Floral' Framed Painting (Wood, 30 inch x ...</td>\n",
              "    </tr>\n",
              "    <tr>\n",
              "      <th>2</th>\n",
              "      <td>Household</td>\n",
              "      <td>SAF 'UV Textured Modern Art Print Framed' Pain...</td>\n",
              "    </tr>\n",
              "    <tr>\n",
              "      <th>3</th>\n",
              "      <td>Household</td>\n",
              "      <td>SAF Flower Print Framed Painting (Synthetic, 1...</td>\n",
              "    </tr>\n",
              "    <tr>\n",
              "      <th>4</th>\n",
              "      <td>Household</td>\n",
              "      <td>Incredible Gifts India Wooden Happy Birthday U...</td>\n",
              "    </tr>\n",
              "    <tr>\n",
              "      <th>...</th>\n",
              "      <td>...</td>\n",
              "      <td>...</td>\n",
              "    </tr>\n",
              "    <tr>\n",
              "      <th>20494</th>\n",
              "      <td>Electronics</td>\n",
              "      <td>JBL GO Portable Wireless Bluetooth Speaker wit...</td>\n",
              "    </tr>\n",
              "    <tr>\n",
              "      <th>20495</th>\n",
              "      <td>Electronics</td>\n",
              "      <td>boAt Stone 200 Portable Bluetooth Speakers (Or...</td>\n",
              "    </tr>\n",
              "    <tr>\n",
              "      <th>20496</th>\n",
              "      <td>Electronics</td>\n",
              "      <td>JBL T160 in-Ear Headphones with Mic (Black) Co...</td>\n",
              "    </tr>\n",
              "    <tr>\n",
              "      <th>20497</th>\n",
              "      <td>Electronics</td>\n",
              "      <td>Philips SHE1405BK/94 In-Ear Headphone Headset ...</td>\n",
              "    </tr>\n",
              "    <tr>\n",
              "      <th>20498</th>\n",
              "      <td>Electronics</td>\n",
              "      <td>boAt Stone 200 Portable Bluetooth Speakers (Bl...</td>\n",
              "    </tr>\n",
              "  </tbody>\n",
              "</table>\n",
              "<p>20499 rows × 2 columns</p>\n",
              "</div>\n",
              "      <button class=\"colab-df-convert\" onclick=\"convertToInteractive('df-54c46e21-b814-4070-9b66-6e8fc7dda53a')\"\n",
              "              title=\"Convert this dataframe to an interactive table.\"\n",
              "              style=\"display:none;\">\n",
              "        \n",
              "  <svg xmlns=\"http://www.w3.org/2000/svg\" height=\"24px\"viewBox=\"0 0 24 24\"\n",
              "       width=\"24px\">\n",
              "    <path d=\"M0 0h24v24H0V0z\" fill=\"none\"/>\n",
              "    <path d=\"M18.56 5.44l.94 2.06.94-2.06 2.06-.94-2.06-.94-.94-2.06-.94 2.06-2.06.94zm-11 1L8.5 8.5l.94-2.06 2.06-.94-2.06-.94L8.5 2.5l-.94 2.06-2.06.94zm10 10l.94 2.06.94-2.06 2.06-.94-2.06-.94-.94-2.06-.94 2.06-2.06.94z\"/><path d=\"M17.41 7.96l-1.37-1.37c-.4-.4-.92-.59-1.43-.59-.52 0-1.04.2-1.43.59L10.3 9.45l-7.72 7.72c-.78.78-.78 2.05 0 2.83L4 21.41c.39.39.9.59 1.41.59.51 0 1.02-.2 1.41-.59l7.78-7.78 2.81-2.81c.8-.78.8-2.07 0-2.86zM5.41 20L4 18.59l7.72-7.72 1.47 1.35L5.41 20z\"/>\n",
              "  </svg>\n",
              "      </button>\n",
              "      \n",
              "  <style>\n",
              "    .colab-df-container {\n",
              "      display:flex;\n",
              "      flex-wrap:wrap;\n",
              "      gap: 12px;\n",
              "    }\n",
              "\n",
              "    .colab-df-convert {\n",
              "      background-color: #E8F0FE;\n",
              "      border: none;\n",
              "      border-radius: 50%;\n",
              "      cursor: pointer;\n",
              "      display: none;\n",
              "      fill: #1967D2;\n",
              "      height: 32px;\n",
              "      padding: 0 0 0 0;\n",
              "      width: 32px;\n",
              "    }\n",
              "\n",
              "    .colab-df-convert:hover {\n",
              "      background-color: #E2EBFA;\n",
              "      box-shadow: 0px 1px 2px rgba(60, 64, 67, 0.3), 0px 1px 3px 1px rgba(60, 64, 67, 0.15);\n",
              "      fill: #174EA6;\n",
              "    }\n",
              "\n",
              "    [theme=dark] .colab-df-convert {\n",
              "      background-color: #3B4455;\n",
              "      fill: #D2E3FC;\n",
              "    }\n",
              "\n",
              "    [theme=dark] .colab-df-convert:hover {\n",
              "      background-color: #434B5C;\n",
              "      box-shadow: 0px 1px 3px 1px rgba(0, 0, 0, 0.15);\n",
              "      filter: drop-shadow(0px 1px 2px rgba(0, 0, 0, 0.3));\n",
              "      fill: #FFFFFF;\n",
              "    }\n",
              "  </style>\n",
              "\n",
              "      <script>\n",
              "        const buttonEl =\n",
              "          document.querySelector('#df-54c46e21-b814-4070-9b66-6e8fc7dda53a button.colab-df-convert');\n",
              "        buttonEl.style.display =\n",
              "          google.colab.kernel.accessAllowed ? 'block' : 'none';\n",
              "\n",
              "        async function convertToInteractive(key) {\n",
              "          const element = document.querySelector('#df-54c46e21-b814-4070-9b66-6e8fc7dda53a');\n",
              "          const dataTable =\n",
              "            await google.colab.kernel.invokeFunction('convertToInteractive',\n",
              "                                                     [key], {});\n",
              "          if (!dataTable) return;\n",
              "\n",
              "          const docLinkHtml = 'Like what you see? Visit the ' +\n",
              "            '<a target=\"_blank\" href=https://colab.research.google.com/notebooks/data_table.ipynb>data table notebook</a>'\n",
              "            + ' to learn more about interactive tables.';\n",
              "          element.innerHTML = '';\n",
              "          dataTable['output_type'] = 'display_data';\n",
              "          await google.colab.output.renderOutput(dataTable, element);\n",
              "          const docLink = document.createElement('div');\n",
              "          docLink.innerHTML = docLinkHtml;\n",
              "          element.appendChild(docLink);\n",
              "        }\n",
              "      </script>\n",
              "    </div>\n",
              "  </div>\n",
              "  "
            ]
          },
          "metadata": {}
        },
        {
          "output_type": "stream",
          "name": "stdout",
          "text": [
            "AxesSubplot(0.125,0.125;0.775x0.755)\n"
          ]
        },
        {
          "output_type": "display_data",
          "data": {
            "text/plain": [
              "<Figure size 432x288 with 1 Axes>"
            ],
            "image/png": "[encoded data removed]"
          },
          "metadata": {
            "needs_background": "light"
          }
        }
      ],
      "source": [
        "import pandas as pd\n",
        "\n",
        "#Reading in csv file\n",
        "df = pd.read_csv('ecommerceDataset.csv', encoding='latin-1')\n",
        "df = df[['Product', 'Text']]\n",
        "df.Text = df.Text.astype(str)\n",
        "display(df)\n",
        "print(df['Product'].value_counts().plot(kind='bar'))"
      ]
    },
    {
      "cell_type": "markdown",
      "source": [
        "The [dataset](https://www.kaggle.com/datasets/saurabhshahane/ecommerce-text-classification) I decided to use from Kaggle is the eCommerce Dataset that have 4 categories which covers almost 80% of all eCommerce products. I reduced the dataset down to about 20000 data for the sake of having enough RAM on Colab. The model should be able to predict the type of product being sold in the eCommerce through the given text."
      ],
      "metadata": {
        "id": "n0bui_SV6CSN"
      }
    },
    {
      "cell_type": "code",
      "source": [
        "import tensorflow as tf\n",
        "from tensorflow.keras.preprocessing.text import Tokenizer\n",
        "from tensorflow.keras import layers, models, preprocessing\n",
        "\n",
        "from sklearn.preprocessing import LabelEncoder\n",
        "import numpy as np\n",
        "\n",
        "# Set seed for reproducibility\n",
        "np.random.seed(1234)"
      ],
      "metadata": {
        "id": "qUY0WMalPxUH"
      },
      "execution_count": 3,
      "outputs": []
    },
    {
      "cell_type": "code",
      "source": [
        "i = np.random.rand(len(df)) < 0.8\n",
        "train = df[i]\n",
        "test = df[~i]\n",
        "print(\"Train data size: \", train.shape)\n",
        "print(\"Test data size: \", test.shape)"
      ],
      "metadata": {
        "colab": {
          "base_uri": "https://localhost:8080/",
          "height": 0
        },
        "id": "qYc0gwP_Rm-v",
        "outputId": "220da8c4-e3eb-4a3b-a02f-c247517f0930"
      },
      "execution_count": 4,
      "outputs": [
        {
          "output_type": "stream",
          "name": "stdout",
          "text": [
            "Train data size:  (16407, 2)\n",
            "Test data size:  (4092, 2)\n"
          ]
        }
      ]
    },
    {
      "cell_type": "code",
      "source": [
        "# Set up X and Y\n",
        "num_labels = 4\n",
        "vocab_size = 25000\n",
        "batch_size = 1000\n",
        "\n",
        "# Fit the tokenizer on the training data\n",
        "tokenizer = Tokenizer(num_words=vocab_size)\n",
        "tokenizer.fit_on_texts(train.Text)\n",
        "\n",
        "x_train = tokenizer.texts_to_matrix(train.Text, mode='tfidf')\n",
        "x_test = tokenizer.texts_to_matrix(test.Text, mode='tfidf')\n",
        "\n",
        "encoder = LabelEncoder()\n",
        "encoder.fit(train.Product)\n",
        "y_train = encoder.transform(train.Product)\n",
        "y_test = encoder.transform(test.Product)\n",
        "\n",
        "y_train = tf.keras.utils.to_categorical(y_train, 4)\n",
        "y_test = tf.keras.utils.to_categorical(y_test, 4)\n",
        "\n",
        "# check shape\n",
        "print(\"train shapes:\", x_train.shape, y_train.shape)\n",
        "print(\"test shapes:\", x_test.shape, y_test.shape)\n"
      ],
      "metadata": {
        "colab": {
          "base_uri": "https://localhost:8080/",
          "height": 0
        },
        "id": "CdgkbulRSIcu",
        "outputId": "ffbbc954-f986-4d24-9b15-fd9d2b91c194"
      },
      "execution_count": 5,
      "outputs": [
        {
          "output_type": "stream",
          "name": "stdout",
          "text": [
            "train shapes: (16407, 25000) (16407, 4)\n",
            "test shapes: (4092, 25000) (4092, 4)\n"
          ]
        }
      ]
    },
    {
      "cell_type": "markdown",
      "source": [
        "##Sequential"
      ],
      "metadata": {
        "id": "yexjZX2TaK1f"
      }
    },
    {
      "cell_type": "code",
      "source": [
        "model = models.Sequential()\n",
        "model.add(layers.Dense(32, input_dim=vocab_size, kernel_initializer='normal', \n",
        "                       activation='relu'))\n",
        "model.add(layers.Dense(16, input_dim=vocab_size, kernel_initializer='normal', \n",
        "                       activation='sigmoid'))\n",
        "model.add(layers.Dense(4, kernel_initializer='normal', activation='softmax'))\n",
        " \n",
        "model.compile(loss='categorical_crossentropy',\n",
        "              optimizer='adam',\n",
        "              metrics=['accuracy'])\n",
        " \n",
        "history = model.fit(x_train, y_train,\n",
        "                    batch_size=batch_size,\n",
        "                    epochs=30,\n",
        "                    verbose=1,\n",
        "                    validation_split=0.1)\n"
      ],
      "metadata": {
        "id": "3nkq65DHaOqJ",
        "colab": {
          "base_uri": "https://localhost:8080/",
          "height": 0
        },
        "outputId": "1dd33ba3-2930-4418-dd09-6a3eeaa04d36"
      },
      "execution_count": 6,
      "outputs": [
        {
          "output_type": "stream",
          "name": "stdout",
          "text": [
            "Epoch 1/30\n",
            "15/15 [==============================] - 4s 207ms/step - loss: 1.3689 - accuracy: 0.3792 - val_loss: 1.4373 - val_accuracy: 6.0938e-04\n",
            "Epoch 2/30\n",
            "15/15 [==============================] - 3s 184ms/step - loss: 1.2678 - accuracy: 0.5320 - val_loss: 1.4306 - val_accuracy: 0.1121\n",
            "Epoch 3/30\n",
            "15/15 [==============================] - 3s 187ms/step - loss: 1.1475 - accuracy: 0.7472 - val_loss: 1.3480 - val_accuracy: 0.5314\n",
            "Epoch 4/30\n",
            "15/15 [==============================] - 3s 189ms/step - loss: 1.0234 - accuracy: 0.9339 - val_loss: 1.2707 - val_accuracy: 0.6752\n",
            "Epoch 5/30\n",
            "15/15 [==============================] - 3s 181ms/step - loss: 0.8989 - accuracy: 0.9668 - val_loss: 1.1851 - val_accuracy: 0.7684\n",
            "Epoch 6/30\n",
            "15/15 [==============================] - 3s 204ms/step - loss: 0.7852 - accuracy: 0.9814 - val_loss: 1.0961 - val_accuracy: 0.8147\n",
            "Epoch 7/30\n",
            "15/15 [==============================] - 3s 178ms/step - loss: 0.6861 - accuracy: 0.9879 - val_loss: 1.0141 - val_accuracy: 0.8416\n",
            "Epoch 8/30\n",
            "15/15 [==============================] - 3s 182ms/step - loss: 0.6011 - accuracy: 0.9905 - val_loss: 0.9360 - val_accuracy: 0.8531\n",
            "Epoch 9/30\n",
            "15/15 [==============================] - 3s 179ms/step - loss: 0.5297 - accuracy: 0.9929 - val_loss: 0.8777 - val_accuracy: 0.8580\n",
            "Epoch 10/30\n",
            "15/15 [==============================] - 3s 182ms/step - loss: 0.4704 - accuracy: 0.9940 - val_loss: 0.8139 - val_accuracy: 0.8775\n",
            "Epoch 11/30\n",
            "15/15 [==============================] - 3s 177ms/step - loss: 0.4207 - accuracy: 0.9951 - val_loss: 0.7644 - val_accuracy: 0.8793\n",
            "Epoch 12/30\n",
            "15/15 [==============================] - 3s 179ms/step - loss: 0.3786 - accuracy: 0.9957 - val_loss: 0.7247 - val_accuracy: 0.8836\n",
            "Epoch 13/30\n",
            "15/15 [==============================] - 3s 179ms/step - loss: 0.3431 - accuracy: 0.9957 - val_loss: 0.6898 - val_accuracy: 0.8830\n",
            "Epoch 14/30\n",
            "15/15 [==============================] - 3s 179ms/step - loss: 0.3122 - accuracy: 0.9960 - val_loss: 0.6535 - val_accuracy: 0.8842\n",
            "Epoch 15/30\n",
            "15/15 [==============================] - 3s 176ms/step - loss: 0.2857 - accuracy: 0.9962 - val_loss: 0.6246 - val_accuracy: 0.8854\n",
            "Epoch 16/30\n",
            "15/15 [==============================] - 3s 181ms/step - loss: 0.2627 - accuracy: 0.9963 - val_loss: 0.6000 - val_accuracy: 0.8860\n",
            "Epoch 17/30\n",
            "15/15 [==============================] - 3s 181ms/step - loss: 0.2426 - accuracy: 0.9964 - val_loss: 0.5758 - val_accuracy: 0.8867\n",
            "Epoch 18/30\n",
            "15/15 [==============================] - 3s 179ms/step - loss: 0.2249 - accuracy: 0.9965 - val_loss: 0.5546 - val_accuracy: 0.8903\n",
            "Epoch 19/30\n",
            "15/15 [==============================] - 3s 179ms/step - loss: 0.2092 - accuracy: 0.9965 - val_loss: 0.5401 - val_accuracy: 0.8915\n",
            "Epoch 20/30\n",
            "15/15 [==============================] - 3s 196ms/step - loss: 0.1953 - accuracy: 0.9965 - val_loss: 0.5238 - val_accuracy: 0.8927\n",
            "Epoch 21/30\n",
            "15/15 [==============================] - 3s 178ms/step - loss: 0.1828 - accuracy: 0.9967 - val_loss: 0.5088 - val_accuracy: 0.8946\n",
            "Epoch 22/30\n",
            "15/15 [==============================] - 3s 178ms/step - loss: 0.1716 - accuracy: 0.9968 - val_loss: 0.4984 - val_accuracy: 0.8940\n",
            "Epoch 23/30\n",
            "15/15 [==============================] - 3s 182ms/step - loss: 0.1615 - accuracy: 0.9970 - val_loss: 0.4896 - val_accuracy: 0.8940\n",
            "Epoch 24/30\n",
            "15/15 [==============================] - 3s 180ms/step - loss: 0.1524 - accuracy: 0.9971 - val_loss: 0.4822 - val_accuracy: 0.8952\n",
            "Epoch 25/30\n",
            "15/15 [==============================] - 3s 179ms/step - loss: 0.1442 - accuracy: 0.9972 - val_loss: 0.4744 - val_accuracy: 0.8958\n",
            "Epoch 26/30\n",
            "15/15 [==============================] - 3s 179ms/step - loss: 0.1367 - accuracy: 0.9972 - val_loss: 0.4669 - val_accuracy: 0.8982\n",
            "Epoch 27/30\n",
            "15/15 [==============================] - 3s 201ms/step - loss: 0.1298 - accuracy: 0.9972 - val_loss: 0.4599 - val_accuracy: 0.8995\n",
            "Epoch 28/30\n",
            "15/15 [==============================] - 3s 179ms/step - loss: 0.1233 - accuracy: 0.9972 - val_loss: 0.4558 - val_accuracy: 0.8995\n",
            "Epoch 29/30\n",
            "15/15 [==============================] - 3s 179ms/step - loss: 0.1175 - accuracy: 0.9974 - val_loss: 0.4565 - val_accuracy: 0.8970\n",
            "Epoch 30/30\n",
            "15/15 [==============================] - 3s 174ms/step - loss: 0.1121 - accuracy: 0.9974 - val_loss: 0.4537 - val_accuracy: 0.8970\n"
          ]
        }
      ]
    },
    {
      "cell_type": "code",
      "source": [
        "# Sequential evaluation of test data\n",
        "result = model.evaluate(x_test, y_test, batch_size=batch_size, verbose=1)\n",
        "print('Accuracy is ', result[1])"
      ],
      "metadata": {
        "colab": {
          "base_uri": "https://localhost:8080/",
          "height": 0
        },
        "id": "P-CRNU_8l6dY",
        "outputId": "a51f7d9a-7949-4d3b-c3bf-e802838a49f3"
      },
      "execution_count": 7,
      "outputs": [
        {
          "output_type": "stream",
          "name": "stdout",
          "text": [
            "5/5 [==============================] - 0s 59ms/step - loss: 0.1825 - accuracy: 0.9731\n",
            "Accuracy is  0.9731183052062988\n"
          ]
        }
      ]
    },
    {
      "cell_type": "markdown",
      "source": [
        "##CNN"
      ],
      "metadata": {
        "id": "svs2wqW6mh9k"
      }
    },
    {
      "cell_type": "code",
      "source": [
        "model = models.Sequential()\n",
        "model.add(layers.Embedding(4000, 64, input_length=25000)) \n",
        "model.add(layers.Conv1D(32, 4, activation='relu')) \n",
        "model.add(layers.MaxPooling1D(5)) \n",
        "model.add(layers.Conv1D(32, 4, activation='relu'))\n",
        "model.add(layers.GlobalMaxPooling1D())\n",
        "model.add(layers.Dense(4))\n",
        "\n",
        "model.compile(optimizer='adam',\n",
        "              loss='categorical_crossentropy',\n",
        "              metrics=['accuracy'])\n",
        "\n",
        "history = model.fit(x_train,\n",
        "                    y_train,\n",
        "                    epochs=5,\n",
        "                    batch_size=128,\n",
        "                    validation_split=0.2)"
      ],
      "metadata": {
        "colab": {
          "base_uri": "https://localhost:8080/",
          "height": 0
        },
        "id": "KGQRS7cLmjsT",
        "outputId": "9c1af483-0750-4633-f842-8010fc0fa8e7"
      },
      "execution_count": 9,
      "outputs": [
        {
          "output_type": "stream",
          "name": "stdout",
          "text": [
            "Epoch 1/5\n",
            "103/103 [==============================] - 897s 9s/step - loss: 1.3212 - accuracy: 0.3701 - val_loss: 2.7081 - val_accuracy: 0.0000e+00\n",
            "Epoch 2/5\n",
            "103/103 [==============================] - 865s 8s/step - loss: 1.2336 - accuracy: 0.4569 - val_loss: 7.1658 - val_accuracy: 0.0000e+00\n",
            "Epoch 3/5\n",
            "103/103 [==============================] - 881s 9s/step - loss: 7.5681 - accuracy: 0.3259 - val_loss: 14.3069 - val_accuracy: 0.0000e+00\n",
            "Epoch 4/5\n",
            "103/103 [==============================] - 878s 9s/step - loss: 5.8099 - accuracy: 0.3038 - val_loss: 14.9149 - val_accuracy: 0.0000e+00\n",
            "Epoch 5/5\n",
            "103/103 [==============================] - 889s 9s/step - loss: 5.8148 - accuracy: 0.3038 - val_loss: 14.7971 - val_accuracy: 0.0000e+00\n"
          ]
        }
      ]
    },
    {
      "cell_type": "code",
      "source": [
        "# CNN evaluation of test data\n",
        "result = model.evaluate(x_test, y_test, batch_size=batch_size, verbose=1)\n",
        "print('Accuracy is ', result[1])"
      ],
      "metadata": {
        "id": "R7PPUHKPwwWj"
      },
      "execution_count": null,
      "outputs": []
    },
    {
      "cell_type": "markdown",
      "source": [
        "##Embeddings"
      ],
      "metadata": {
        "id": "y-gE13Orw8-1"
      }
    },
    {
      "cell_type": "code",
      "source": [
        "model = models.Sequential()\n",
        "model.add(layers.Embedding(10000, 16, input_length=25000))\n",
        "model.add(layers.Flatten())\n",
        "model.add(layers.Dense(16, activation='relu'))\n",
        "model.add(layers.Dense(4, activation='softmax'))\n",
        "\n",
        "model.compile(optimizer='adam',\n",
        "              loss='categorical_crossentropy',\n",
        "              metrics=['accuracy'])\n",
        "model.summary()\n",
        "\n",
        "history = model.fit(x_train,\n",
        "                    y_train,\n",
        "                    epochs=10,\n",
        "                    batch_size=32,\n",
        "                    validation_split=0.2)"
      ],
      "metadata": {
        "colab": {
          "base_uri": "https://localhost:8080/"
        },
        "outputId": "14fc6de6-e06b-425f-d80e-3f6d148d0f25",
        "id": "ACfzUS1O4qu3"
      },
      "execution_count": null,
      "outputs": [
        {
          "output_type": "stream",
          "name": "stdout",
          "text": [
            "Model: \"sequential_1\"\n",
            "_________________________________________________________________\n",
            " Layer (type)                Output Shape              Param #   \n",
            "=================================================================\n",
            " embedding_1 (Embedding)     (None, 25000, 16)         160000    \n",
            "                                                                 \n",
            " flatten_1 (Flatten)         (None, 400000)            0         \n",
            "                                                                 \n",
            " dense_2 (Dense)             (None, 16)                6400016   \n",
            "                                                                 \n",
            " dense_3 (Dense)             (None, 4)                 68        \n",
            "                                                                 \n",
            "=================================================================\n",
            "Total params: 6,560,084\n",
            "Trainable params: 6,560,084\n",
            "Non-trainable params: 0\n",
            "_________________________________________________________________\n",
            "Epoch 1/10\n",
            "411/411 [==============================] - 52s 127ms/step - loss: 1.3522 - accuracy: 0.3161 - val_loss: 1.7942 - val_accuracy: 0.0000e+00\n",
            "Epoch 2/10\n",
            "411/411 [==============================] - 52s 126ms/step - loss: 1.2977 - accuracy: 0.3170 - val_loss: 2.1047 - val_accuracy: 0.0000e+00\n",
            "Epoch 3/10\n",
            "411/411 [==============================] - 52s 126ms/step - loss: 1.2797 - accuracy: 0.3131 - val_loss: 2.3221 - val_accuracy: 0.0000e+00\n",
            "Epoch 4/10\n",
            "411/411 [==============================] - 53s 128ms/step - loss: 1.2726 - accuracy: 0.3139 - val_loss: 2.4732 - val_accuracy: 0.0000e+00\n",
            "Epoch 5/10\n",
            "411/411 [==============================] - 52s 127ms/step - loss: 1.2699 - accuracy: 0.3114 - val_loss: 2.5706 - val_accuracy: 0.0000e+00\n",
            "Epoch 6/10\n",
            "411/411 [==============================] - 52s 125ms/step - loss: 1.2689 - accuracy: 0.3153 - val_loss: 2.6329 - val_accuracy: 0.0000e+00\n",
            "Epoch 7/10\n",
            "411/411 [==============================] - 53s 130ms/step - loss: 1.2686 - accuracy: 0.3118 - val_loss: 2.6753 - val_accuracy: 0.0000e+00\n",
            "Epoch 8/10\n",
            "411/411 [==============================] - 59s 145ms/step - loss: 1.2684 - accuracy: 0.3146 - val_loss: 2.6921 - val_accuracy: 0.0000e+00\n",
            "Epoch 9/10\n",
            "411/411 [==============================] - 53s 128ms/step - loss: 1.2684 - accuracy: 0.3139 - val_loss: 2.7080 - val_accuracy: 0.0000e+00\n",
            "Epoch 10/10\n",
            "411/411 [==============================] - 54s 131ms/step - loss: 1.2684 - accuracy: 0.3171 - val_loss: 2.7242 - val_accuracy: 0.0000e+00\n"
          ]
        }
      ]
    },
    {
      "cell_type": "code",
      "source": [
        "# First embedding evaluation of test data\n",
        "result = model.evaluate(x_test, y_test, batch_size=batch_size, verbose=1)\n",
        "print('Accuracy is ', result[1])"
      ],
      "metadata": {
        "colab": {
          "base_uri": "https://localhost:8080/"
        },
        "outputId": "b2e22b3c-1b76-4b2e-b449-e1ffac1f2ebb",
        "id": "vx0-63I94zZs"
      },
      "execution_count": null,
      "outputs": [
        {
          "output_type": "stream",
          "name": "stdout",
          "text": [
            "5/5 [==============================] - 4s 483ms/step - loss: 1.5674 - accuracy: 0.2463\n",
            "Accuracy is  0.24633431434631348\n"
          ]
        }
      ]
    },
    {
      "cell_type": "code",
      "source": [
        "model = models.Sequential()\n",
        "model.add(layers.Embedding(10000, 8, input_length=25000))\n",
        "model.add(layers.Dense(32, activation='relu'))\n",
        "model.add(layers.Dense(16, activation='sigmoid'))\n",
        "model.add(layers.Flatten())\n",
        "model.add(layers.Dense(4, activation='softmax'))\n",
        "\n",
        "model.compile(optimizer='rmsprop',\n",
        "              loss='categorical_crossentropy',\n",
        "              metrics=['accuracy'])\n",
        "model.summary()\n",
        "\n",
        "history = model.fit(x_train,\n",
        "                    y_train,\n",
        "                    epochs=5,\n",
        "                    batch_size=32,\n",
        "                    validation_split=0.1)"
      ],
      "metadata": {
        "colab": {
          "base_uri": "https://localhost:8080/"
        },
        "id": "OFAL1pW-4kj_",
        "outputId": "fa7eff0b-af7b-4040-d011-cf0cd29ceb39"
      },
      "execution_count": null,
      "outputs": [
        {
          "output_type": "stream",
          "name": "stdout",
          "text": [
            "Model: \"sequential_1\"\n",
            "_________________________________________________________________\n",
            " Layer (type)                Output Shape              Param #   \n",
            "=================================================================\n",
            " embedding_1 (Embedding)     (None, 25000, 8)          80000     \n",
            "                                                                 \n",
            " dense_3 (Dense)             (None, 25000, 32)         288       \n",
            "                                                                 \n",
            " dense_4 (Dense)             (None, 25000, 16)         528       \n",
            "                                                                 \n",
            " flatten_1 (Flatten)         (None, 400000)            0         \n",
            "                                                                 \n",
            " dense_5 (Dense)             (None, 4)                 1600004   \n",
            "                                                                 \n",
            "=================================================================\n",
            "Total params: 1,680,820\n",
            "Trainable params: 1,680,820\n",
            "Non-trainable params: 0\n",
            "_________________________________________________________________\n",
            "Epoch 1/5\n",
            "462/462 [==============================] - 165s 356ms/step - loss: 46.8246 - accuracy: 0.4202 - val_loss: 0.4854 - val_accuracy: 0.8544\n",
            "Epoch 2/5\n",
            "462/462 [==============================] - 166s 360ms/step - loss: 0.1932 - accuracy: 0.9616 - val_loss: 0.4971 - val_accuracy: 0.8598\n",
            "Epoch 3/5\n",
            "462/462 [==============================] - 175s 379ms/step - loss: 0.1060 - accuracy: 0.9794 - val_loss: 0.5779 - val_accuracy: 0.8568\n",
            "Epoch 4/5\n",
            "462/462 [==============================] - 168s 364ms/step - loss: 0.0726 - accuracy: 0.9854 - val_loss: 0.6993 - val_accuracy: 0.8403\n",
            "Epoch 5/5\n",
            "462/462 [==============================] - 168s 363ms/step - loss: 0.0557 - accuracy: 0.9886 - val_loss: 0.6074 - val_accuracy: 0.8635\n"
          ]
        }
      ]
    },
    {
      "cell_type": "code",
      "source": [
        "# Second embedding evaluation of test data\n",
        "result = model.evaluate(x_test, y_test, batch_size=batch_size, verbose=1)\n",
        "print('Accuracy is ', result[1])"
      ],
      "metadata": {
        "id": "wh1q50gm6U9P"
      },
      "execution_count": null,
      "outputs": []
    },
    {
      "cell_type": "markdown",
      "source": [
        "##Analysis"
      ],
      "metadata": {
        "id": "pd5u0JDlBZKw"
      }
    },
    {
      "cell_type": "markdown",
      "source": [
        "For this Text Classification assignment, I attempted multiple approaches of classification on the same dataset that I downloaded from Kaggle. It had 50000 instances of text that describes a product and classifies them as either household, electronic, book, or clothing & accessories. Due to the dataset being too large for Colab, I have reduced it down to approximately 20000 for it to have a better chance of running. Despite this, I could not print the final accuracy for some approaches due to Colab hitting RAM limit and crashing itself.\n",
        "\n",
        "The first model is a sequential model has 3 dense layers with output space going from 32, 16, 4 while using a different activation method including relu, sigmoid, and softmax. The overall accuracy for this model was 97.31% which is outstanding in term of performance for me. \n",
        "\n",
        "The second model is sequential model with CNN architecture. This model took the longest to run but also had a really low accuracy of 35.21%. It could possibly be due to CNN being typically used for image classification and not text classification that it might not have been a good fit. I also tried doing a RNN model but I could not get it to run in Colab at all as it crashes immediately everytime I ran. Thus, I could not get a comparison between RNN and CNN.\n",
        "\n",
        "The next 2 models I used are both embedding attempts. The first one I flatten the output of the embedding layer and then ran 2 layers of dense afterward using activation relu and softmax respectively. It resulted in a low accuracy of 24.63% which is terrible in term of classification performance. Thus, for the second embedding attempt, I tried running 2 layers of dense on the output of embedding layer first before I flatten it and run another layer of dense. For each of the layer of dense, I ran a different activation method from relu to sigmoid to softmax. As a result, the accuracy of this second embedding attempt is 86.7% which is much better compared to my previous embedding attempt but is less effective at classification than the initial sequential model I did. Overall, half of my models performed well at text classification. However, I might have been able to improved the models further if I clean up and process the text prior to classification instead of training and testing immediately."
      ],
      "metadata": {
        "id": "P6NRRaYEBdDl"
      }
    }
  ],
  "metadata": {
    "colab": {
      "provenance": []
    },
    "kernelspec": {
      "display_name": "Python 3",
      "name": "python3"
    },
    "language_info": {
      "name": "python"
    }
  },
  "nbformat": 4,
  "nbformat_minor": 0
}